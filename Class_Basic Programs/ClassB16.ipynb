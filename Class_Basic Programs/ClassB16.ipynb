{
  "nbformat": 4,
  "nbformat_minor": 0,
  "metadata": {
    "colab": {
      "provenance": []
    },
    "kernelspec": {
      "name": "python3",
      "display_name": "Python 3"
    },
    "language_info": {
      "name": "python"
    }
  },
  "cells": [
    {
      "cell_type": "code",
      "execution_count": 1,
      "metadata": {
        "colab": {
          "base_uri": "https://localhost:8080/"
        },
        "id": "U9h2-74-yD1v",
        "outputId": "21faf60f-4262-4f14-c51f-2eff063238ee"
      },
      "outputs": [
        {
          "output_type": "stream",
          "name": "stdout",
          "text": [
            "The Average of Grades are: 90.0\n"
          ]
        }
      ],
      "source": [
        "class Student:\n",
        "  def __init__(self,name,grades=[]):\n",
        "    self.name=name\n",
        "    self.grades=grades\n",
        "  def cal_avg(self):\n",
        "    average=sum(self.grades)/len(self.grades)\n",
        "    print(\"The Average of Grades are:\",average)\n",
        "s1=Student(\"Alice\",[85,90,95])\n",
        "s1.cal_avg()"
      ]
    }
  ]
}