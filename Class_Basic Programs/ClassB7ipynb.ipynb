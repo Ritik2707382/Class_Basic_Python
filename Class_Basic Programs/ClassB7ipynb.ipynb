{
  "nbformat": 4,
  "nbformat_minor": 0,
  "metadata": {
    "colab": {
      "provenance": []
    },
    "kernelspec": {
      "name": "python3",
      "display_name": "Python 3"
    },
    "language_info": {
      "name": "python"
    }
  },
  "cells": [
    {
      "cell_type": "code",
      "execution_count": 2,
      "metadata": {
        "colab": {
          "base_uri": "https://localhost:8080/"
        },
        "id": "lBYvVcItez_z",
        "outputId": "cabda88a-0c51-42ef-b3fd-03d6d2e7af7c"
      },
      "outputs": [
        {
          "output_type": "stream",
          "name": "stdout",
          "text": [
            "Radius: 0\n"
          ]
        }
      ],
      "source": [
        "class Circle:\n",
        "  radius=0\n",
        "  def func(self):\n",
        "    print(\"Radius:\",self.radius)\n",
        "  def a_p(self,radius):\n",
        "    self.radius=radius\n",
        "    area=3.14*radius*radius\n",
        "    circumference=2*3.14*radius\n",
        "c1=Circle()\n",
        "c1.func()"
      ]
    }
  ]
}