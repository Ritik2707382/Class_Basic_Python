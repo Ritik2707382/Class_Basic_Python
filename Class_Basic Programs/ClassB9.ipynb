{
  "nbformat": 4,
  "nbformat_minor": 0,
  "metadata": {
    "colab": {
      "provenance": []
    },
    "kernelspec": {
      "name": "python3",
      "display_name": "Python 3"
    },
    "language_info": {
      "name": "python"
    }
  },
  "cells": [
    {
      "cell_type": "code",
      "execution_count": 4,
      "metadata": {
        "id": "xVIwR2lugsUu"
      },
      "outputs": [],
      "source": [
        "class Employee:\n",
        "  def __init__(self,name,salary):\n",
        "    self.name=name\n",
        "    self.salary=salary\n",
        "  def raise_salary(self,percentage):\n",
        "    self.salary=self.salary+self.salary*(percentage/100)\n",
        "e1=Employee(\"h\",2000)\n",
        "e1.raise_salary(15)"
      ]
    }
  ]
}