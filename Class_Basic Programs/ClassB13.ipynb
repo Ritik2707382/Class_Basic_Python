{
  "nbformat": 4,
  "nbformat_minor": 0,
  "metadata": {
    "colab": {
      "provenance": []
    },
    "kernelspec": {
      "name": "python3",
      "display_name": "Python 3"
    },
    "language_info": {
      "name": "python"
    }
  },
  "cells": [
    {
      "cell_type": "code",
      "execution_count": 2,
      "metadata": {
        "colab": {
          "base_uri": "https://localhost:8080/"
        },
        "id": "YiT3X9tDtspl",
        "outputId": "5c68d583-0664-4744-adba-7d71526de295"
      },
      "outputs": [
        {
          "output_type": "stream",
          "name": "stdout",
          "text": [
            "Name of Dog: h\n",
            "Age of Dog: 0\n"
          ]
        }
      ],
      "source": [
        "class Dog:\n",
        "  name=\"h\"\n",
        "  age=0\n",
        "  def func(self):\n",
        "    print(\"Name of Dog:\",self.name)\n",
        "    print(\"Age of Dog:\",self.age)\n",
        "  def display(self,name,dog):\n",
        "    self.name=name\n",
        "    self.age=age\n",
        "    print(\"New Name of Dog:\",name)\n",
        "    print(\"New Age of Dog:\",age)\n",
        "D=Dog()\n",
        "D.func()"
      ]
    }
  ]
}