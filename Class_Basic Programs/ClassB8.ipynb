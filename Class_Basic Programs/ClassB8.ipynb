{
  "nbformat": 4,
  "nbformat_minor": 0,
  "metadata": {
    "colab": {
      "provenance": []
    },
    "kernelspec": {
      "name": "python3",
      "display_name": "Python 3"
    },
    "language_info": {
      "name": "python"
    }
  },
  "cells": [
    {
      "cell_type": "code",
      "execution_count": 3,
      "metadata": {
        "colab": {
          "base_uri": "https://localhost:8080/"
        },
        "id": "d259sG0ff5Bi",
        "outputId": "3b2d2be0-8d11-435a-ac18-0f934e3b37d3"
      },
      "outputs": [
        {
          "output_type": "stream",
          "name": "stdout",
          "text": [
            "Radius: 0\n",
            "The Area of Circle: 28.259999999999998\n",
            "The Circumference of Circle: 18.84\n"
          ]
        }
      ],
      "source": [
        "class Circle:\n",
        "  radius=0\n",
        "  def func(self):\n",
        "    print(\"Radius:\",self.radius)\n",
        "  def a_p(self,radius):\n",
        "    self.radius=radius\n",
        "    area=3.14*radius*radius\n",
        "    print(\"The Area of Circle:\",area)\n",
        "    circumference=2*3.14*radius\n",
        "    print(\"The Circumference of Circle:\",circumference)\n",
        "c1=Circle()\n",
        "c1.func()\n",
        "c1.a_p(3)"
      ]
    }
  ]
}