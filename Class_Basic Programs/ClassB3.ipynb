{
  "nbformat": 4,
  "nbformat_minor": 0,
  "metadata": {
    "colab": {
      "provenance": []
    },
    "kernelspec": {
      "name": "python3",
      "display_name": "Python 3"
    },
    "language_info": {
      "name": "python"
    }
  },
  "cells": [
    {
      "cell_type": "code",
      "execution_count": 2,
      "metadata": {
        "colab": {
          "base_uri": "https://localhost:8080/"
        },
        "id": "uiwTGc2SWLwW",
        "outputId": "b9672eb5-a180-4103-b397-afa9b9eb9755"
      },
      "outputs": [
        {
          "output_type": "stream",
          "name": "stdout",
          "text": [
            "The Make of Car is: 2001\n",
            "The Model of Car is: Uber\n",
            "The Make of Car is: 2008\n",
            "The Model of Car is: A10\n"
          ]
        }
      ],
      "source": [
        " class Car:\n",
        "  make=''\n",
        "  model=''\n",
        "  def __init__(self,m1,m2):\n",
        "    self.make=m1\n",
        "    self.model=m2\n",
        "  def display(self):\n",
        "    print(\"The Make of Car is:\",self.make)\n",
        "    print(\"The Model of Car is:\",self.model)\n",
        "  def start_engine(self):\n",
        "    print(\"Engine Started\")\n",
        "c1=Car(2001,'Uber')\n",
        "c1.display()\n",
        "c2=Car(2008,'A10')\n",
        "c2.display()"
      ]
    }
  ]
}