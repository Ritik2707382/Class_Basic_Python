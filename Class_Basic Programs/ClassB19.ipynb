{
  "nbformat": 4,
  "nbformat_minor": 0,
  "metadata": {
    "colab": {
      "provenance": []
    },
    "kernelspec": {
      "name": "python3",
      "display_name": "Python 3"
    },
    "language_info": {
      "name": "python"
    }
  },
  "cells": [
    {
      "cell_type": "code",
      "execution_count": 1,
      "metadata": {
        "id": "o9aZ70Ps1gfD"
      },
      "outputs": [],
      "source": [
        "class Bank:\n",
        "  def __init__(self,name,location):\n",
        "    self.name=name\n",
        "    self.location=location\n",
        "  def display(self):\n",
        "    print(\"Name of Bank:\",self.name)\n",
        "    print(\"Location of Bank:\",self.location)"
      ]
    }
  ]
}