{
  "nbformat": 4,
  "nbformat_minor": 0,
  "metadata": {
    "colab": {
      "provenance": []
    },
    "kernelspec": {
      "name": "python3",
      "display_name": "Python 3"
    },
    "language_info": {
      "name": "python"
    }
  },
  "cells": [
    {
      "cell_type": "code",
      "execution_count": 5,
      "metadata": {
        "id": "tPfrMCayqxGG"
      },
      "outputs": [],
      "source": [
        "class BankAccount:\n",
        "  def __init__(self,balance=0):\n",
        "    self.balance=balance\n",
        "  def deposit(self,amount):\n",
        "    if amount>0:\n",
        "      self.balance=self.balance+amount\n",
        "  def withdraw(self,amount):\n",
        "    if amount>self.balance:\n",
        "      print(\"Account cannot be withdrawed\")\n",
        "    if amount>0:\n",
        "      self.balance=self.balance-amount\n",
        "b1=BankAccount(500)"
      ]
    }
  ]
}