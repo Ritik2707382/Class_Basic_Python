{
  "nbformat": 4,
  "nbformat_minor": 0,
  "metadata": {
    "colab": {
      "provenance": []
    },
    "kernelspec": {
      "name": "python3",
      "display_name": "Python 3"
    },
    "language_info": {
      "name": "python"
    }
  },
  "cells": [
    {
      "cell_type": "code",
      "execution_count": 13,
      "metadata": {
        "id": "Vl1UySRiOm_v"
      },
      "outputs": [],
      "source": [
        "class Car:\n",
        "   make=20\n",
        "   model='Uber'\n",
        "   def __init__(self,ma,mo):\n",
        "    self.make=ma\n",
        "    self.model=mo\n",
        "   def display(self):\n",
        "    print(\"The make of Car is:\",self.make)\n",
        "    print(\"Teh Model of Car is:\",self.model)\n",
        "c=Car(30,'Ola')\n",
        "c.display()"
      ]
    }
  ]
}