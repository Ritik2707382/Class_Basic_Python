{
  "nbformat": 4,
  "nbformat_minor": 0,
  "metadata": {
    "colab": {
      "provenance": []
    },
    "kernelspec": {
      "name": "python3",
      "display_name": "Python 3"
    },
    "language_info": {
      "name": "python"
    }
  },
  "cells": [
    {
      "cell_type": "code",
      "execution_count": null,
      "metadata": {
        "id": "Lrv32T-yyr3O"
      },
      "outputs": [],
      "source": [
        "class Book:\n",
        "  def __init__(self,title,author,pages):\n",
        "    self.title=title\n",
        "    self.author=author\n",
        "    self.pages=pages\n",
        "  def display(self):\n",
        "    inf=\"Title:{self.title}, Author:{self.author}, Pages:{self.pages}\""
      ]
    }
  ]
}