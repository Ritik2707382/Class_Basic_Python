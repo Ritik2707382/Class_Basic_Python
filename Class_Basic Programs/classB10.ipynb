{
  "nbformat": 4,
  "nbformat_minor": 0,
  "metadata": {
    "colab": {
      "provenance": []
    },
    "kernelspec": {
      "name": "python3",
      "display_name": "Python 3"
    },
    "language_info": {
      "name": "python"
    }
  },
  "cells": [
    {
      "cell_type": "code",
      "execution_count": 3,
      "metadata": {
        "colab": {
          "base_uri": "https://localhost:8080/"
        },
        "id": "Q6e0pFY1mZYa",
        "outputId": "6b7e9e03-cda9-465a-85e9-634baa49264e"
      },
      "outputs": [
        {
          "output_type": "stream",
          "name": "stdout",
          "text": [
            "The Original Salary: 50000\n",
            "The Increase in Salary is: 55000.0\n"
          ]
        }
      ],
      "source": [
        "class Employee:\n",
        "  def __init__(self,name,salary):\n",
        "    self.name=name\n",
        "    self.salary=salary\n",
        "    print(\"The Original Salary:\",self.salary)\n",
        "  def raise_salary(self,percentage):\n",
        "    self.salary=self.salary+self.salary*(percentage/100)\n",
        "    print(\"The Increase in Salary is:\",self.salary)\n",
        "e1=Employee(\"Ram\",50000)\n",
        "e1.raise_salary(10)"
      ]
    }
  ]
}