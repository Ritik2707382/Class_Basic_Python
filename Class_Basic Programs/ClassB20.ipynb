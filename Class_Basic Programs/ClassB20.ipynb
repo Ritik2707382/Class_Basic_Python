{
  "nbformat": 4,
  "nbformat_minor": 0,
  "metadata": {
    "colab": {
      "provenance": []
    },
    "kernelspec": {
      "name": "python3",
      "display_name": "Python 3"
    },
    "language_info": {
      "name": "python"
    }
  },
  "cells": [
    {
      "cell_type": "code",
      "execution_count": 1,
      "metadata": {
        "colab": {
          "base_uri": "https://localhost:8080/"
        },
        "id": "R999qBB1201w",
        "outputId": "61b9b3c4-9e00-49f3-9149-501ae0f51fab"
      },
      "outputs": [
        {
          "output_type": "stream",
          "name": "stdout",
          "text": [
            "Name of Bank: XYZ Bank\n",
            "Location of Bank: New York\n"
          ]
        }
      ],
      "source": [
        "class Bank:\n",
        "  def __init__(self,name,location):\n",
        "    self.name=name\n",
        "    self.location=location\n",
        "  def display(self):\n",
        "    print(\"Name of Bank:\",self.name)\n",
        "    print(\"Location of Bank:\",self.location)\n",
        "b1=Bank(\"XYZ Bank\",\"New York\")\n",
        "b1.display()"
      ]
    }
  ]
}