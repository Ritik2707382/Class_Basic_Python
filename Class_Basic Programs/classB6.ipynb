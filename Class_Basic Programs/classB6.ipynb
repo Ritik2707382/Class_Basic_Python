{
  "nbformat": 4,
  "nbformat_minor": 0,
  "metadata": {
    "colab": {
      "provenance": []
    },
    "kernelspec": {
      "name": "python3",
      "display_name": "Python 3"
    },
    "language_info": {
      "name": "python"
    }
  },
  "cells": [
    {
      "cell_type": "code",
      "execution_count": 4,
      "metadata": {
        "colab": {
          "base_uri": "https://localhost:8080/"
        },
        "id": "uPSa7FMuc8IM",
        "outputId": "5b94940d-a80a-441b-8bb2-5114478aacbb"
      },
      "outputs": [
        {
          "output_type": "stream",
          "name": "stdout",
          "text": [
            "Length: \n",
            "Width: \n",
            "The Area of Rectangle: 20\n",
            "The Perimeter of Rectangle: 18\n"
          ]
        }
      ],
      "source": [
        "class Rectangle:\n",
        "  length=0\n",
        "  width=0\n",
        "  def func(self):\n",
        "    print(\"Length:\",self.length)\n",
        "    print(\"Width:\",self.width)\n",
        "  def calculate_area(self,l1,w1):\n",
        "    self.length=l1\n",
        "    self.width=w1\n",
        "    area=l1*w1\n",
        "    print(\"The Area of Rectangle:\",area)\n",
        "  def calculate_perimeter(self,l2,w2):\n",
        "    self.length=l2\n",
        "    self.width=w2\n",
        "    perimeter=2*(l2+w2)\n",
        "    print(\"The Perimeter of Rectangle:\",perimeter)\n",
        "r1=Rectangle()\n",
        "r1.func()\n",
        "r1.calculate_area(5,4)\n",
        "r1.calculate_perimeter(5,4)"
      ]
    }
  ]
}