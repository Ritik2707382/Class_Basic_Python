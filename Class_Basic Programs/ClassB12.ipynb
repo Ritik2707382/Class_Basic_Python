{
  "nbformat": 4,
  "nbformat_minor": 0,
  "metadata": {
    "colab": {
      "provenance": []
    },
    "kernelspec": {
      "name": "python3",
      "display_name": "Python 3"
    },
    "language_info": {
      "name": "python"
    }
  },
  "cells": [
    {
      "cell_type": "code",
      "execution_count": 1,
      "metadata": {
        "colab": {
          "base_uri": "https://localhost:8080/"
        },
        "id": "x7TTTS-Ms6ao",
        "outputId": "267da35e-adeb-49e8-b303-092476569d4c"
      },
      "outputs": [
        {
          "output_type": "stream",
          "name": "stdout",
          "text": [
            "Remaining Balance in BankAccount: 1300\n"
          ]
        }
      ],
      "source": [
        "class BankAccount:\n",
        "  def __init__(self,balance=0):\n",
        "    self.balance=balance\n",
        "  def deposit(self,amount):\n",
        "    if amount>0:\n",
        "      self.balance=self.balance+amount\n",
        "  def withdraw(self,amount):\n",
        "    if amount>self.balance:\n",
        "      print(\"Account cannot be withdrawed\")\n",
        "    if amount>0:\n",
        "      self.balance=self.balance-amount\n",
        "    print(\"Remaining Balance in BankAccount:\",self.balance)\n",
        "b1=BankAccount(1000)\n",
        "b1.deposit(500)\n",
        "b1.withdraw(200)"
      ]
    }
  ]
}