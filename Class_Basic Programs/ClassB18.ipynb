{
  "nbformat": 4,
  "nbformat_minor": 0,
  "metadata": {
    "colab": {
      "provenance": []
    },
    "kernelspec": {
      "name": "python3",
      "display_name": "Python 3"
    },
    "language_info": {
      "name": "python"
    }
  },
  "cells": [
    {
      "cell_type": "code",
      "execution_count": 2,
      "metadata": {
        "colab": {
          "base_uri": "https://localhost:8080/"
        },
        "id": "ldDkF_PF0sHE",
        "outputId": "63740624-dc94-42b2-d09a-fb59566589e2"
      },
      "outputs": [
        {
          "output_type": "stream",
          "name": "stdout",
          "text": [
            "Title:Python Programming, Author:John Smith, Pages:300\n"
          ]
        }
      ],
      "source": [
        "class Book:\n",
        "  def __init__(self,title,author,pages):\n",
        "    self.title=title\n",
        "    self.author=author\n",
        "    self.pages=pages\n",
        "  def display(self):\n",
        "    inf=f\"Title:{self.title}, Author:{self.author}, Pages:{self.pages}\"\n",
        "    print(inf)\n",
        "b=Book(\"Python Programming\",\"John Smith\", 300)\n",
        "b.display()"
      ]
    }
  ]
}