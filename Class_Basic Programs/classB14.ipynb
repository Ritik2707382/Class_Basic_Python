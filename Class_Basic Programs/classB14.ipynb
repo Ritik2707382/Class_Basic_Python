{
  "nbformat": 4,
  "nbformat_minor": 0,
  "metadata": {
    "colab": {
      "provenance": []
    },
    "kernelspec": {
      "name": "python3",
      "display_name": "Python 3"
    },
    "language_info": {
      "name": "python"
    }
  },
  "cells": [
    {
      "cell_type": "code",
      "execution_count": 1,
      "metadata": {
        "colab": {
          "base_uri": "https://localhost:8080/"
        },
        "id": "DtC3pwAjvtam",
        "outputId": "42cc3d11-fd52-464f-8640-cc37922d2d1e"
      },
      "outputs": [
        {
          "output_type": "stream",
          "name": "stdout",
          "text": [
            "Name of Dog: h\n",
            "Age of Dog: 0\n",
            "New Name of Dog: Buddy\n",
            "New Age of Dog: 3\n"
          ]
        }
      ],
      "source": [
        "class Dog:\n",
        "  name=\"h\"\n",
        "  age=0\n",
        "  def func(self):\n",
        "    print(\"Name of Dog:\",self.name)\n",
        "    print(\"Age of Dog:\",self.age)\n",
        "  def display(self,name,age):\n",
        "    self.name=name\n",
        "    self.age=age\n",
        "    print(\"New Name of Dog:\",name)\n",
        "    print(\"New Age of Dog:\",age)\n",
        "D=Dog()\n",
        "D.func()\n",
        "D.display(\"Buddy\",3)"
      ]
    }
  ]
}