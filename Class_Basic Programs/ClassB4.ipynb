{
  "nbformat": 4,
  "nbformat_minor": 0,
  "metadata": {
    "colab": {
      "provenance": []
    },
    "kernelspec": {
      "name": "python3",
      "display_name": "Python 3"
    },
    "language_info": {
      "name": "python"
    }
  },
  "cells": [
    {
      "cell_type": "code",
      "execution_count": 1,
      "metadata": {
        "colab": {
          "base_uri": "https://localhost:8080/"
        },
        "id": "ASl53WlBX9jV",
        "outputId": "cbb6473b-21d6-48e7-f9fb-1f612571805d"
      },
      "outputs": [
        {
          "output_type": "stream",
          "name": "stdout",
          "text": [
            "The Make of Car is: 2001\n",
            "The Model of Car is: Uber\n",
            "Engine Started\n",
            "The Make of Car is: 2008\n",
            "The Model of Car is: A10\n",
            "Engine Started\n"
          ]
        }
      ],
      "source": [
        "class Car:\n",
        "  make=''\n",
        "  model=''\n",
        "  def __init__(self,m1,m2):\n",
        "    self.make=m1\n",
        "    self.model=m2\n",
        "  def display(self):\n",
        "    print(\"The Make of Car is:\",self.make)\n",
        "    print(\"The Model of Car is:\",self.model)\n",
        "  def start_engine(self):\n",
        "    print(\"Engine Started\")\n",
        "c1=Car(2001,'Uber')\n",
        "c1.display()\n",
        "c1.start_engine()\n",
        "c2=Car(2008,'A10')\n",
        "c2.display()\n",
        "c2.start_engine()"
      ]
    }
  ]
}