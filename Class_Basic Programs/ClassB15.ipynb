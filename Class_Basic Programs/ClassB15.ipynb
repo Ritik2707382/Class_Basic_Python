{
  "nbformat": 4,
  "nbformat_minor": 0,
  "metadata": {
    "colab": {
      "provenance": []
    },
    "kernelspec": {
      "name": "python3",
      "display_name": "Python 3"
    },
    "language_info": {
      "name": "python"
    }
  },
  "cells": [
    {
      "cell_type": "code",
      "execution_count": 2,
      "metadata": {
        "id": "IDn6ihEfwpXh"
      },
      "outputs": [],
      "source": [
        "class Student:\n",
        "  def __init__(self,name,grades=[]):\n",
        "    self.name=name\n",
        "    self.grades=grades\n",
        "  def cal_avg(self):\n",
        "    average=sum(self.grades)/len(self.grades)\n",
        "s1=Student(\"h\",[1])"
      ]
    }
  ]
}